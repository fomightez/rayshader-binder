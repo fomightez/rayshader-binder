{
 "cells": [
  {
   "cell_type": "markdown",
   "metadata": {},
   "source": [
    "# Getting Started with Rayshader\n",
    "\n",
    "Rayshader Code pulled from https://www.rayshader.com/\n",
    "\n",
    "-----\n",
    "\n",
    "Generating a very basic 2D image as a starting point:"
   ]
  },
  {
   "cell_type": "code",
   "execution_count": null,
   "metadata": {},
   "outputs": [],
   "source": [
    "# Must be executed BEFORE rgl is loaded on headless device, like sessions served via MyBinder.org\n",
    "options(rgl.useNULL=TRUE) #<--Comment that out if running local.\n",
    "library(rgl)\n",
    "\n",
    "library(rayshader)\n",
    "library(dplyr)\n",
    "library(raster)\n",
    "\n",
    "#Here, Tyler Morgan-Wall coded loading a map with the raster package.\n",
    "loadzip = tempfile() \n",
    "download.file(\"https://tylermw.com/data/dem_01.tif.zip\", loadzip)\n",
    "localtif = raster::raster(unzip(loadzip, \"dem_01.tif\"))\n",
    "unlink(loadzip)\n",
    "\n",
    "#And convert it to a matrix:\n",
    "elmat = raster_to_matrix(localtif)\n",
    "\n",
    "#We use another one of rayshader's built-in textures:\n",
    "elmat %>%\n",
    "  sphere_shade(texture = \"desert\") %>%\n",
    "  plot_map()"
   ]
  },
  {
   "cell_type": "markdown",
   "metadata": {},
   "source": [
    "Make sure not to include `options(rgl.useNULL=TRUE)` in the code above if you are running this code or notebook on your local machine.\n",
    "\n",
    "The sun direction can be controlled."
   ]
  },
  {
   "cell_type": "code",
   "execution_count": null,
   "metadata": {},
   "outputs": [],
   "source": [
    "#sphere_shade can shift the sun direction:\n",
    "elmat %>%\n",
    "  sphere_shade(sunangle = 45, texture = \"desert\") %>%\n",
    "  plot_map()"
   ]
  },
  {
   "cell_type": "markdown",
   "metadata": {},
   "source": [
    "## Improving the image in a series of steps\n",
    "\n",
    "Add water."
   ]
  },
  {
   "cell_type": "code",
   "execution_count": null,
   "metadata": {},
   "outputs": [],
   "source": [
    "#detect_water and add_water adds a water layer to the map:\n",
    "elmat %>%\n",
    "  sphere_shade(texture = \"desert\") %>%\n",
    "  add_water(detect_water(elmat), color=\"desert\") %>%\n",
    "  plot_map()"
   ]
  },
  {
   "cell_type": "markdown",
   "metadata": {},
   "source": [
    "Add a layer from the sun direction"
   ]
  },
  {
   "cell_type": "code",
   "execution_count": null,
   "metadata": {},
   "outputs": [],
   "source": [
    "#And we can add a raytraced layer from that sun direction as well:\n",
    "elmat %>%\n",
    "  sphere_shade(texture = \"desert\") %>%\n",
    "  add_water(detect_water(elmat), color=\"desert\") %>%\n",
    "  add_shadow(ray_shade(elmat), 0.5) %>%\n",
    "  plot_map()"
   ]
  },
  {
   "cell_type": "markdown",
   "metadata": {},
   "source": [
    "Add modeling of lighting from atmospheric scattering."
   ]
  },
  {
   "cell_type": "code",
   "execution_count": null,
   "metadata": {},
   "outputs": [],
   "source": [
    "#And here we add an ambient occlusion shadow layer, which models \n",
    "#lighting from atmospheric scattering:\n",
    "elmat %>%\n",
    "  sphere_shade(texture = \"desert\") %>%\n",
    "  add_water(detect_water(elmat), color = \"desert\") %>%\n",
    "  add_shadow(ray_shade(elmat), 0.5) %>%\n",
    "  add_shadow(ambient_shade(elmat), 0) %>%\n",
    "  plot_map()"
   ]
  },
  {
   "cell_type": "markdown",
   "metadata": {},
   "source": [
    "## 3D mapping\n",
    "\n",
    "Rayshader also supports 3D mapping by passing a texture map (either external or one produced by rayshader) into the plot_3d function.\n",
    "\n",
    "`rglwidget()` is used to display the `plot_3d` output in the Juptyer notebook running on a remote server. If you run this locally, you don't need that and would want to use `render_snapshot()`.\n",
    "\n",
    "**Be patient as this code takes some time to run and render properly**."
   ]
  },
  {
   "cell_type": "code",
   "execution_count": null,
   "metadata": {},
   "outputs": [],
   "source": [
    "#rgl.clear()\n",
    "elmat %>%\n",
    "  sphere_shade(texture = \"desert\") %>%\n",
    "  add_water(detect_water(elmat), color = \"desert\") %>%\n",
    "  add_shadow(ray_shade(elmat, zscale = 3), 0.5) %>%\n",
    "  add_shadow(ambient_shade(elmat), 0) %>%\n",
    "  plot_3d(elmat, zscale = 10, fov = 0, theta = 135, zoom = 0.75, phi = 45, windowsize = c(1000, 800))\n",
    "Sys.sleep(0.2)\n",
    "rglwidget()"
   ]
  },
  {
   "cell_type": "markdown",
   "metadata": {},
   "source": [
    "When the code above is done running, you should see displayed a scene of a 3D representation of the toplogy. You can left-click on the interactive display above and use the mouse to move it around. The middle scroll button allows you to zoom in and out.\n",
    "\n",
    "You can add a scale bar, as well as a compass using `render_scalebar()` and `render_compass()`."
   ]
  },
  {
   "cell_type": "code",
   "execution_count": null,
   "metadata": {},
   "outputs": [],
   "source": [
    "rgl::rgl.open() # based on bottom of https://www.rayshader.com/reference/render_highquality.html#examples"
   ]
  },
  {
   "cell_type": "code",
   "execution_count": null,
   "metadata": {},
   "outputs": [],
   "source": [
    "# based on https://www.rayshader.com/reference/render_highquality.html#examples\n",
    "volcano %>%\n",
    " sphere_shade() %>%\n",
    " plot_3d(volcano,zscale = 2)\n",
    "render_highquality()"
   ]
  },
  {
   "cell_type": "code",
   "execution_count": null,
   "metadata": {},
   "outputs": [],
   "source": [
    "rgl::rgl.close() # based on bottom of https://www.rayshader.com/reference/render_highquality.html#examples"
   ]
  },
  {
   "cell_type": "code",
   "execution_count": null,
   "metadata": {},
   "outputs": [],
   "source": [
    "rgl::rgl.clear()\n",
    "elmat %>%\n",
    "  sphere_shade(texture = \"desert\") %>%\n",
    "  add_water(detect_water(elmat), color = \"desert\") %>%\n",
    "  add_shadow(ray_shade(elmat, zscale = 3), 0.5) %>%\n",
    "  add_shadow(ambient_shade(elmat), 0) %>%\n",
    "  plot_3d(elmat, zscale = 10, fov = 0, theta = 60, zoom = 0.75, phi = 45, windowsize = c(100, 100))\n",
    "\n",
    "render_scalebar(limits=c(0, 5, 10),label_unit = \"km\",position = \"W\", y=50,\n",
    "                scale_length = c(0.33,1))\n",
    "\n",
    "render_compass(position = \"E\")\n",
    "Sys.sleep(0.2)\n",
    "rglwidget()"
   ]
  },
  {
   "cell_type": "code",
   "execution_count": null,
   "metadata": {},
   "outputs": [],
   "source": [
    "rgl::rgl.open() # based on bottom of https://www.rayshader.com/reference/render_highquality.html#examples"
   ]
  },
  {
   "cell_type": "code",
   "execution_count": null,
   "metadata": {},
   "outputs": [],
   "source": [
    "elmat %>%\n",
    "  sphere_shade(texture = \"desert\") %>%\n",
    "  add_water(detect_water(elmat), color = \"desert\") %>%\n",
    "  plot_3d(elmat, zscale = 10, fov = 0, theta = 60, zoom = 0.75, phi = 45, windowsize = c(1000, 800))\n",
    "\n",
    "render_scalebar(limits=c(0, 5, 10),label_unit = \"km\",position = \"W\", y=50,\n",
    "                scale_length = c(0.33,1))\n",
    "\n",
    "render_compass(position = \"E\")\n",
    "Sys.sleep(0.2)\n",
    "render_highquality(samples=2, scale_text_size = 24,clear=TRUE)\n",
    "#rglwidget()"
   ]
  },
  {
   "cell_type": "code",
   "execution_count": null,
   "metadata": {},
   "outputs": [],
   "source": [
    "rgl::rgl.close()"
   ]
  },
  {
   "cell_type": "code",
   "execution_count": null,
   "metadata": {},
   "outputs": [],
   "source": [
    "library(rayrender)"
   ]
  },
  {
   "cell_type": "code",
   "execution_count": null,
   "metadata": {},
   "outputs": [],
   "source": [
    "library(rayrender)\n",
    "\n",
    "scene = generate_ground() %>%\n",
    "  add_object(sphere(material = diffuse(color=\"#ff5555\")))\n",
    "render_scene(scene, parallel = FALSE, width = 100, height = 100, samples = 1000)"
   ]
  },
  {
   "cell_type": "code",
   "execution_count": null,
   "metadata": {},
   "outputs": [],
   "source": [
    "... awaiting 3D working to add rest of 'Getting started'..."
   ]
  }
 ],
 "metadata": {
  "kernelspec": {
   "display_name": "R",
   "language": "R",
   "name": "ir"
  },
  "language_info": {
   "codemirror_mode": "r",
   "file_extension": ".r",
   "mimetype": "text/x-r-source",
   "name": "R",
   "pygments_lexer": "r",
   "version": "3.6.3"
  }
 },
 "nbformat": 4,
 "nbformat_minor": 2
}

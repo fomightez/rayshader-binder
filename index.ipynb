{
 "cells": [
  {
   "cell_type": "markdown",
   "metadata": {},
   "source": [
    "# Getting Started with Rayshader\n",
    "\n",
    "Rayshader Code pulled from https://www.rayshader.com/\n",
    "\n",
    "-----\n",
    "\n",
    "Basic Usage"
   ]
  },
  {
   "cell_type": "code",
   "execution_count": 1,
   "metadata": {},
   "outputs": [],
   "source": [
    "library(rayshader)\n",
    "library(dplyr)\n",
    "library(raster)\n",
    "\n",
    "#Here, Tyler Morgan-Wall coded loading a map with the raster package.\n",
    "loadzip = tempfile() \n",
    "download.file(\"https://tylermw.com/data/dem_01.tif.zip\", loadzip)\n",
    "localtif = raster::raster(unzip(loadzip, \"dem_01.tif\"))\n",
    "unlink(loadzip)\n",
    "\n",
    "#And convert it to a matrix:\n",
    "elmat = matrix(raster::extract(localtif,raster::extent(localtif),buffer=1000),\n",
    "               nrow=ncol(localtif),ncol=nrow(localtif))\n",
    "\n",
    "#We use another one of rayshader's built-in textures:\n",
    "elmat %>%\n",
    "  sphere_shade(texture = \"desert\") %>%\n",
    "  plot_map()"
   ]
  },
  {
   "cell_type": "markdown",
   "metadata": {},
   "source": [
    "The sun direction can be controlled."
   ]
  },
  {
   "cell_type": "code",
   "execution_count": null,
   "metadata": {},
   "outputs": [],
   "source": [
    "#sphere_shade can shift the sun direction:\n",
    "elmat %>%\n",
    "  sphere_shade(sunangle = 45, texture = \"desert\") %>%\n",
    "  plot_map()"
   ]
  },
  {
   "cell_type": "markdown",
   "metadata": {},
   "source": [
    "## Improving the image in a series of steps\n",
    "\n",
    "Add water."
   ]
  },
  {
   "cell_type": "code",
   "execution_count": null,
   "metadata": {},
   "outputs": [],
   "source": [
    "#detect_water and add_water adds a water layer to the map:\n",
    "elmat %>%\n",
    "  sphere_shade(texture = \"desert\") %>%\n",
    "  add_water(detect_water(elmat), color=\"desert\") %>%\n",
    "  plot_map()"
   ]
  },
  {
   "cell_type": "markdown",
   "metadata": {},
   "source": [
    "Add a layer from the sun direction"
   ]
  },
  {
   "cell_type": "code",
   "execution_count": null,
   "metadata": {},
   "outputs": [],
   "source": [
    "raymat = ray_shade(elmat)\n",
    "\n",
    "#And we can add a raytraced layer from that sun direction as well:\n",
    "elmat %>%\n",
    "  sphere_shade(texture = \"desert\") %>%\n",
    "  add_water(detect_water(elmat), color=\"desert\") %>%\n",
    "  add_shadow(raymat) %>%\n",
    "  plot_map()"
   ]
  },
  {
   "cell_type": "markdown",
   "metadata": {},
   "source": [
    "Add modeling of lighting from atmospheric scattering."
   ]
  },
  {
   "cell_type": "code",
   "execution_count": null,
   "metadata": {},
   "outputs": [],
   "source": [
    "#And here we add an ambient occlusion shadow layer, which models \n",
    "#lighting from atmospheric scattering:\n",
    "\n",
    "ambmat = ambient_shade(elmat)\n",
    "\n",
    "elmat %>%\n",
    "  sphere_shade(texture = \"desert\") %>%\n",
    "  add_water(detect_water(elmat), color=\"desert\") %>%\n",
    "  add_shadow(raymat) %>%\n",
    "  add_shadow(ambmat) %>%\n",
    "  plot_map()raymat = ray_shade(elmat)\n",
    "\n"
   ]
  },
  {
   "cell_type": "markdown",
   "metadata": {},
   "source": [
    "## 3D mapping\n",
    "\n",
    "This doesn't work here yet because rendering requires video settings not set up for 'headless' use. In other words, this doesn't generate correctly from the remote server yet."
   ]
  },
  {
   "cell_type": "code",
   "execution_count": null,
   "metadata": {},
   "outputs": [],
   "source": [
    "elmat %>%\n",
    "  sphere_shade(texture = \"desert\") %>%\n",
    "  add_water(detect_water(elmat), color=\"desert\") %>%\n",
    "  add_shadow(ray_shade(elmat,zscale=3,maxsearch = 300),0.5) %>%\n",
    "  add_shadow(ambmat,0.5) %>%\n",
    "  plot_3d(elmat,zscale=10,fov=0,theta=135,zoom=0.75,phi=45, windowsize = c(1000,800))\n",
    "render_snapshot()"
   ]
  },
  {
   "cell_type": "code",
   "execution_count": null,
   "metadata": {},
   "outputs": [],
   "source": [
    "... awaiting 3D working to add rest of 'Getting started'..."
   ]
  }
 ],
 "metadata": {
  "kernelspec": {
   "display_name": "R",
   "language": "R",
   "name": "ir"
  },
  "language_info": {
   "codemirror_mode": "r",
   "file_extension": ".r",
   "mimetype": "text/x-r-source",
   "name": "R",
   "pygments_lexer": "r",
   "version": "3.4.4"
  }
 },
 "nbformat": 4,
 "nbformat_minor": 2
}
